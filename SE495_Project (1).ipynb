{
  "cells": [
    {
      "cell_type": "markdown",
      "metadata": {
        "id": "2S9TBHQBWan6"
      },
      "source": [
        "##SE 495: Emerging Topics in Software Engineering\n",
        "##Milestone Project: AI for Cybersecurity\n",
        "##Monitoring and detecting cyberattacks based on traffic data and DNS information#"
      ]
    },
    {
      "cell_type": "markdown",
      "metadata": {
        "id": "xMmEJrvMWm1E"
      },
      "source": [
        "## Step 1: Data Preparation & Exploration"
      ]
    },
    {
      "cell_type": "code",
      "execution_count": null,
      "metadata": {
        "id": "tTrYNNkIXGrE"
      },
      "outputs": [],
      "source": [
        "# Import Libraries\n",
        "import pandas as pd\n",
        "import numpy as np\n",
        "import matplotlib.pyplot as plt\n",
        "import seaborn as sns\n",
        "from sklearn.model_selection import train_test_split\n",
        "from sklearn.preprocessing import StandardScaler, LabelEncoder"
      ]
    },
    {
      "cell_type": "code",
      "execution_count": null,
      "metadata": {
        "colab": {
          "base_uri": "https://localhost:8080/"
        },
        "id": "aQsJE1C4XQ4x",
        "outputId": "c0f06dfb-a519-444d-bf57-50a3d8ff25cc"
      },
      "outputs": [
        {
          "output_type": "stream",
          "name": "stdout",
          "text": [
            "Dataset Shape: (130502, 17)\n",
            "\n",
            "Attack Type Distribution:\n",
            "attack_type\n",
            "botnet    130383\n",
            "normal       118\n",
            "Name: count, dtype: int64\n",
            "\n",
            "Missing Values:\n",
            "StartTime           0\n",
            "Dur                 1\n",
            "Proto               1\n",
            "SrcAddr             1\n",
            "Sport              14\n",
            "Dir                 1\n",
            "DstAddr             1\n",
            "Dport              18\n",
            "State               1\n",
            "sTos               14\n",
            "dTos              140\n",
            "TotPkts             1\n",
            "TotBytes            1\n",
            "SrcBytes            1\n",
            "Label               1\n",
            "attack_type         1\n",
            "SrcPkts        130502\n",
            "dtype: int64\n"
          ]
        },
        {
          "output_type": "stream",
          "name": "stderr",
          "text": [
            "<ipython-input-4-50314e88e775>:2: DtypeWarning: Columns (4,7) have mixed types. Specify dtype option on import or set low_memory=False.\n",
            "  df = pd.read_csv(\"/content/combined_dataset.csv\")\n"
          ]
        }
      ],
      "source": [
        "# Load the combined dataset\n",
        "df = pd.read_csv(\"/content/combined_dataset.csv\")\n",
        "\n",
        "# Data Exploration\n",
        "print(\"Dataset Shape:\", df.shape)\n",
        "print(\"\\nAttack Type Distribution:\")\n",
        "print(df['attack_type'].value_counts())\n",
        "print(\"\\nMissing Values:\")\n",
        "print(df.isnull().sum())"
      ]
    },
    {
      "cell_type": "code",
      "execution_count": null,
      "metadata": {
        "id": "FM2IeCBdXlbU"
      },
      "outputs": [],
      "source": [
        "# Data Preprocessing\n",
        "# Convert timestamps to datetime and extract features\n",
        "if 'StartTime' in df.columns:\n",
        "    df['StartTime'] = pd.to_datetime(df['StartTime'], errors='coerce')\n",
        "    df['hour'] = df['StartTime'].dt.hour\n",
        "    df['day_of_week'] = df['StartTime'].dt.dayofweek\n",
        "    df['is_weekend'] = df['StartTime'].dt.dayofweek.isin([5, 6]).astype(int)"
      ]
    },
    {
      "cell_type": "code",
      "execution_count": null,
      "metadata": {
        "id": "XYvkcLJSXoPp"
      },
      "outputs": [],
      "source": [
        "# Feature Engineering\n",
        "# Convert categorical features to numerical\n",
        "categorical_cols = df.select_dtypes(include=['object']).columns.tolist()\n",
        "categorical_cols = [col for col in categorical_cols if col != 'attack_type' and col != 'Label']\n",
        "\n",
        "for col in categorical_cols:\n",
        "    le = LabelEncoder()\n",
        "    df[col] = le.fit_transform(df[col].astype(str))\n",
        "\n",
        "# Convert duration and other features to numeric\n",
        "if 'Dur' in df.columns:\n",
        "    df['Dur'] = pd.to_numeric(df['Dur'], errors='coerce')\n",
        "numeric_cols = df.select_dtypes(include=['float64', 'int64']).columns.tolist()"
      ]
    },
    {
      "cell_type": "code",
      "execution_count": null,
      "metadata": {
        "colab": {
          "base_uri": "https://localhost:8080/"
        },
        "id": "Rg9EbvH_XsoP",
        "outputId": "49b5b060-54ed-44d6-e298-38265269d809"
      },
      "outputs": [
        {
          "output_type": "stream",
          "name": "stdout",
          "text": [
            "Filled missing values in 17 numeric columns and 3 non-numeric columns\n"
          ]
        }
      ],
      "source": [
        "# Handle missing values\n",
        "# Identify numeric and non-numeric columns\n",
        "numeric_cols = df.select_dtypes(include=['number']).columns\n",
        "non_numeric_cols = df.select_dtypes(exclude=['number']).columns\n",
        "\n",
        "# Handle missing values in numeric columns with median\n",
        "if not numeric_cols.empty:\n",
        "    df[numeric_cols] = df[numeric_cols].fillna(df[numeric_cols].median())\n",
        "\n",
        "# Handle missing values in non-numeric columns with most frequent value\n",
        "if not non_numeric_cols.empty:\n",
        "    for col in non_numeric_cols:\n",
        "        df[col] = df[col].fillna(df[col].mode()[0] if not df[col].mode().empty else \"Unknown\")\n",
        "\n",
        "print(f\"Filled missing values in {len(numeric_cols)} numeric columns and {len(non_numeric_cols)} non-numeric columns\")"
      ]
    },
    {
      "cell_type": "code",
      "execution_count": null,
      "metadata": {
        "id": "hjuq8047XySB"
      },
      "outputs": [],
      "source": [
        "# Feature Selection\n",
        "# Drop redundant or irrelevant columns\n",
        "cols_to_drop = ['Label']  # Add any other columns you want to drop\n",
        "df_processed = df.drop(columns=cols_to_drop, errors='ignore')\n",
        "\n",
        "# Split features and target\n",
        "X = df_processed.drop(columns=['attack_type'], errors='ignore')\n",
        "y = df_processed['attack_type']\n",
        "\n",
        "# Create a binary classification target (malicious vs normal)\n",
        "y_binary = y.apply(lambda x: 'normal' if x == 'normal' else 'malicious')"
      ]
    },
    {
      "cell_type": "code",
      "execution_count": null,
      "metadata": {
        "id": "MXIDCk9mX4Uf"
      },
      "outputs": [],
      "source": [
        "# Train-test split\n",
        "X_train, X_test, y_train, y_test = train_test_split(X, y, test_size=0.3, random_state=42)\n",
        "X_train_bin, X_test_bin, y_train_bin, y_test_bin = train_test_split(X, y_binary, test_size=0.3, random_state=42)"
      ]
    },
    {
      "cell_type": "code",
      "execution_count": null,
      "metadata": {
        "colab": {
          "base_uri": "https://localhost:8080/"
        },
        "id": "G0TYV3YHX-7G",
        "outputId": "62a7ee7e-8821-4669-dae3-d4b74cbb717c"
      },
      "outputs": [
        {
          "output_type": "stream",
          "name": "stdout",
          "text": [
            "Data types after datetime conversion:\n",
            "int64      9\n",
            "float64    7\n",
            "int32      3\n",
            "Name: count, dtype: int64\n",
            "X_train_scaled shape: (91351, 19)\n",
            "X_test_scaled shape: (39151, 19)\n"
          ]
        },
        {
          "output_type": "stream",
          "name": "stderr",
          "text": [
            "/usr/local/lib/python3.11/dist-packages/sklearn/utils/extmath.py:1101: RuntimeWarning: invalid value encountered in divide\n",
            "  updated_mean = (last_sum + new_sum) / updated_sample_count\n",
            "/usr/local/lib/python3.11/dist-packages/sklearn/utils/extmath.py:1106: RuntimeWarning: invalid value encountered in divide\n",
            "  T = new_sum / new_sample_count\n",
            "/usr/local/lib/python3.11/dist-packages/sklearn/utils/extmath.py:1126: RuntimeWarning: invalid value encountered in divide\n",
            "  new_unnormalized_variance -= correction**2 / new_sample_count\n"
          ]
        }
      ],
      "source": [
        "import pandas as pd\n",
        "import numpy as np\n",
        "from sklearn.preprocessing import StandardScaler\n",
        "\n",
        "# Convert X_train and X_test back to DataFrames\n",
        "if not isinstance(X_train, pd.DataFrame):\n",
        "    try:\n",
        "        X_train = pd.DataFrame(X_train, columns=feature_names)\n",
        "        X_test = pd.DataFrame(X_test, columns=feature_names)\n",
        "    except:\n",
        "        print(\"Warning: Converting to DataFrame without column names\")\n",
        "        X_train = pd.DataFrame(X_train)\n",
        "        X_test = pd.DataFrame(X_test)\n",
        "\n",
        "# Identify datetime columns\n",
        "datetime_cols = X_train.select_dtypes(include=['datetime64']).columns\n",
        "\n",
        "# Convert datetime columns to numeric features (timestamp or extracted features)\n",
        "for col in datetime_cols:\n",
        "    # Convert to Unix timestamp (seconds since epoch)\n",
        "    X_train[f\"{col}_timestamp\"] = X_train[col].astype(np.int64) // 10**9\n",
        "    X_test[f\"{col}_timestamp\"] = X_test[col].astype(np.int64) // 10**9\n",
        "\n",
        "    # Optionally extract more features like hour, day, etc.\n",
        "    X_train[f\"{col}_hour\"] = X_train[col].dt.hour\n",
        "    X_test[f\"{col}_hour\"] = X_test[col].dt.hour\n",
        "\n",
        "    # Drop the original datetime column\n",
        "    X_train = X_train.drop(columns=[col])\n",
        "    X_test = X_test.drop(columns=[col])\n",
        "\n",
        "# Verify all columns are now numeric\n",
        "print(\"Data types after datetime conversion:\")\n",
        "print(X_train.dtypes.value_counts())\n",
        "\n",
        "# Now apply scaling to the numeric data\n",
        "scaler = StandardScaler()\n",
        "X_train_scaled = scaler.fit_transform(X_train)\n",
        "X_test_scaled = scaler.transform(X_test)\n",
        "\n",
        "print(f\"X_train_scaled shape: {X_train_scaled.shape}\")\n",
        "print(f\"X_test_scaled shape: {X_test_scaled.shape}\")"
      ]
    },
    {
      "cell_type": "code",
      "execution_count": null,
      "metadata": {
        "id": "6D0SapkLYCQu"
      },
      "outputs": [],
      "source": [
        "# Save column names for later use\n",
        "feature_names = X.columns"
      ]
    },
    {
      "cell_type": "code",
      "execution_count": null,
      "metadata": {
        "colab": {
          "base_uri": "https://localhost:8080/"
        },
        "id": "e0ifHOfyYFL-",
        "outputId": "8c610498-5ea4-49d1-9a25-7331ba6d8fab"
      },
      "outputs": [
        {
          "output_type": "stream",
          "name": "stdout",
          "text": [
            "X_train_scaled_df shape: (91351, 19)\n",
            "X_test_scaled_df shape: (39151, 19)\n"
          ]
        }
      ],
      "source": [
        "# Create DataFrames without specifying column names\n",
        "X_train_scaled_df = pd.DataFrame(X_train_scaled)\n",
        "X_test_scaled_df = pd.DataFrame(X_test_scaled)\n",
        "\n",
        "print(f\"X_train_scaled_df shape: {X_train_scaled_df.shape}\")\n",
        "print(f\"X_test_scaled_df shape: {X_test_scaled_df.shape}\")\n",
        "\n",
        "# Save processed data\n",
        "df_processed.to_csv(\"processed_dataset.csv\", index=False)"
      ]
    },
    {
      "cell_type": "markdown",
      "metadata": {
        "id": "-102xs6hYKhy"
      },
      "source": [
        "## Step 2: Binary Classification (Malicious vs. Normal)"
      ]
    },
    {
      "cell_type": "code",
      "execution_count": null,
      "metadata": {
        "id": "gfQpSGFfYOSr"
      },
      "outputs": [],
      "source": [
        "# Import Libraries\n",
        "from sklearn.linear_model import LogisticRegression\n",
        "from sklearn.ensemble import RandomForestClassifier, GradientBoostingClassifier\n",
        "from sklearn.svm import SVC\n",
        "from sklearn.neural_network import MLPClassifier\n",
        "from sklearn.metrics import classification_report, confusion_matrix, f1_score, precision_score, recall_score"
      ]
    },
    {
      "cell_type": "code",
      "execution_count": null,
      "metadata": {
        "colab": {
          "base_uri": "https://localhost:8080/"
        },
        "id": "WvdLt8O9YTMK",
        "outputId": "d6186d93-d66c-4cd0-9256-0047011eb4f9"
      },
      "outputs": [
        {
          "output_type": "stream",
          "name": "stdout",
          "text": [
            "\n",
            "===== BINARY CLASSIFICATION =====\n",
            "Detecting Malicious vs. Normal Traffic\n"
          ]
        }
      ],
      "source": [
        "# Function to evaluate and compare models\n",
        "def evaluate_model(model, X_train, X_test, y_train, y_test, model_name):\n",
        "    # Train the model\n",
        "    model.fit(X_train, y_train)\n",
        "\n",
        "    # Make predictions\n",
        "    y_pred = model.predict(X_test)\n",
        "\n",
        "    # Calculate metrics\n",
        "    f1 = f1_score(y_test, y_pred, average='weighted')\n",
        "    precision = precision_score(y_test, y_pred, average='weighted')\n",
        "    recall = recall_score(y_test, y_pred, average='weighted')\n",
        "\n",
        "    f1_macro = f1_score(y_test, y_pred, average='macro')\n",
        "    precision_macro = precision_score(y_test, y_pred, average='macro')\n",
        "    recall_macro = recall_score(y_test, y_pred, average='macro')\n",
        "\n",
        "    # Print results\n",
        "    print(f\"\\n--- {model_name} Performance ---\")\n",
        "    print(f\"Weighted F1-Score: {f1:.4f}\")\n",
        "    print(f\"Weighted Precision: {precision:.4f}\")\n",
        "    print(f\"Weighted Recall: {recall:.4f}\")\n",
        "    print(f\"Macro F1-Score: {f1_macro:.4f}\")\n",
        "    print(f\"Macro Precision: {precision_macro:.4f}\")\n",
        "    print(f\"Macro Recall: {recall_macro:.4f}\")\n",
        "\n",
        "    # Create confusion matrix\n",
        "    cm = confusion_matrix(y_test, y_pred)\n",
        "\n",
        "    return {\n",
        "        'model': model,\n",
        "        'predictions': y_pred,\n",
        "        'f1_weighted': f1,\n",
        "        'precision_weighted': precision,\n",
        "        'recall_weighted': recall,\n",
        "        'f1_macro': f1_macro,\n",
        "        'precision_macro': precision_macro,\n",
        "        'recall_macro': recall_macro,\n",
        "        'confusion_matrix': cm\n",
        "    }\n",
        "\n",
        "print(\"\\n===== BINARY CLASSIFICATION =====\")\n",
        "print(\"Detecting Malicious vs. Normal Traffic\")"
      ]
    },
    {
      "cell_type": "code",
      "execution_count": null,
      "metadata": {
        "id": "osQO0AnyYaSC"
      },
      "outputs": [],
      "source": [
        "# Define models for binary classification\n",
        "binary_models = {\n",
        "    'Logistic Regression': LogisticRegression(max_iter=1000, random_state=42),\n",
        "    'Random Forest': RandomForestClassifier(n_estimators=100, random_state=42),\n",
        "    'Gradient Boosting': GradientBoostingClassifier(random_state=42),\n",
        "    'SVM': SVC(kernel='rbf', random_state=42),\n",
        "    'Neural Network': MLPClassifier(hidden_layer_sizes=(100,50), max_iter=300, random_state=42)\n",
        "}"
      ]
    },
    {
      "cell_type": "code",
      "execution_count": null,
      "metadata": {
        "colab": {
          "base_uri": "https://localhost:8080/"
        },
        "id": "6_F6TAmXUYJ-",
        "outputId": "57256c76-314e-419b-e3b1-d5015e06edc5"
      },
      "outputs": [
        {
          "output_type": "stream",
          "name": "stdout",
          "text": [
            "NaN values in X_train_scaled: 91351\n",
            "NaN values in X_test_scaled: 39151\n",
            "NaN values after imputation in X_train_scaled_fixed: 0\n",
            "NaN values after imputation in X_test_scaled_fixed: 0\n",
            "Data is now ready for model evaluation\n"
          ]
        },
        {
          "output_type": "stream",
          "name": "stderr",
          "text": [
            "/usr/local/lib/python3.11/dist-packages/sklearn/impute/_base.py:635: UserWarning: Skipping features without any observed values: [13]. At least one non-missing value is needed for imputation with strategy='mean'.\n",
            "  warnings.warn(\n",
            "/usr/local/lib/python3.11/dist-packages/sklearn/impute/_base.py:635: UserWarning: Skipping features without any observed values: [13]. At least one non-missing value is needed for imputation with strategy='mean'.\n",
            "  warnings.warn(\n"
          ]
        }
      ],
      "source": [
        "import numpy as np\n",
        "import pandas as pd\n",
        "from sklearn.impute import SimpleImputer\n",
        "\n",
        "# Check for NaN values in scaled data\n",
        "print(f\"NaN values in X_train_scaled: {np.isnan(X_train_scaled).sum()}\")\n",
        "print(f\"NaN values in X_test_scaled: {np.isnan(X_test_scaled).sum()}\")\n",
        "\n",
        "# Create an imputer\n",
        "imputer = SimpleImputer(strategy='mean')\n",
        "\n",
        "# Apply imputation to handle NaN values\n",
        "X_train_scaled_fixed = imputer.fit_transform(X_train_scaled)\n",
        "X_test_scaled_fixed = imputer.transform(X_test_scaled)\n",
        "\n",
        "# Verify no NaNs remain\n",
        "print(f\"NaN values after imputation in X_train_scaled_fixed: {np.isnan(X_train_scaled_fixed).sum()}\")\n",
        "print(f\"NaN values after imputation in X_test_scaled_fixed: {np.isnan(X_test_scaled_fixed).sum()}\")\n",
        "\n",
        "# Replace the original variables for use in subsequent steps\n",
        "X_train_scaled = X_train_scaled_fixed\n",
        "X_test_scaled = X_test_scaled_fixed\n",
        "\n",
        "# Continue with model evaluation\n",
        "print(\"Data is now ready for model evaluation\")"
      ]
    },
    {
      "cell_type": "code",
      "execution_count": null,
      "metadata": {
        "colab": {
          "base_uri": "https://localhost:8080/"
        },
        "id": "0-AznoJkYgn0",
        "outputId": "3045492b-f929-4667-c5f2-e277c2e9846e"
      },
      "outputs": [
        {
          "output_type": "stream",
          "name": "stdout",
          "text": [
            "\n",
            "--- Logistic Regression Performance ---\n",
            "Weighted F1-Score: 1.0000\n",
            "Weighted Precision: 1.0000\n",
            "Weighted Recall: 1.0000\n",
            "Macro F1-Score: 0.9937\n",
            "Macro Precision: 1.0000\n",
            "Macro Recall: 0.9875\n",
            "\n",
            "--- Random Forest Performance ---\n",
            "Weighted F1-Score: 1.0000\n",
            "Weighted Precision: 1.0000\n",
            "Weighted Recall: 1.0000\n",
            "Macro F1-Score: 1.0000\n",
            "Macro Precision: 1.0000\n",
            "Macro Recall: 1.0000\n",
            "\n",
            "--- Gradient Boosting Performance ---\n",
            "Weighted F1-Score: 1.0000\n",
            "Weighted Precision: 1.0000\n",
            "Weighted Recall: 1.0000\n",
            "Macro F1-Score: 1.0000\n",
            "Macro Precision: 1.0000\n",
            "Macro Recall: 1.0000\n",
            "\n",
            "--- SVM Performance ---\n",
            "Weighted F1-Score: 0.9999\n",
            "Weighted Precision: 0.9999\n",
            "Weighted Recall: 0.9999\n",
            "Macro F1-Score: 0.9737\n",
            "Macro Precision: 0.9999\n",
            "Macro Recall: 0.9500\n",
            "\n",
            "--- Neural Network Performance ---\n",
            "Weighted F1-Score: 1.0000\n",
            "Weighted Precision: 1.0000\n",
            "Weighted Recall: 1.0000\n",
            "Macro F1-Score: 0.9937\n",
            "Macro Precision: 1.0000\n",
            "Macro Recall: 0.9875\n",
            "\n",
            "Best Binary Classification Model: Random Forest\n",
            "F1-Score (Weighted): 1.0000\n",
            "F1-Score (Macro): 1.0000\n"
          ]
        }
      ],
      "source": [
        "# Evaluate each model for binary classification\n",
        "binary_results = {}\n",
        "for name, model in binary_models.items():\n",
        "    binary_results[name] = evaluate_model(model, X_train_scaled, X_test_scaled, y_train_bin, y_test_bin, name)\n",
        "\n",
        "# Find the best model for binary classification\n",
        "best_binary_model_name = max(binary_results, key=lambda k: binary_results[k]['f1_weighted'])\n",
        "print(f\"\\nBest Binary Classification Model: {best_binary_model_name}\")\n",
        "print(f\"F1-Score (Weighted): {binary_results[best_binary_model_name]['f1_weighted']:.4f}\")\n",
        "print(f\"F1-Score (Macro): {binary_results[best_binary_model_name]['f1_macro']:.4f}\")"
      ]
    },
    {
      "cell_type": "markdown",
      "metadata": {
        "id": "cpYO_Ks3YsTm"
      },
      "source": [
        "## Step 3: Multi-class Classification (Botnet, DDoS, Normal)"
      ]
    },
    {
      "cell_type": "code",
      "execution_count": null,
      "metadata": {
        "id": "Y0EfPl4vYxwA"
      },
      "outputs": [],
      "source": [
        "# Define models for multi-class classification\n",
        "multiclass_models = {\n",
        "    'Logistic Regression': LogisticRegression(max_iter=1000, random_state=42),\n",
        "    'Random Forest': RandomForestClassifier(n_estimators=100, random_state=42),\n",
        "    'Gradient Boosting': GradientBoostingClassifier(random_state=42),\n",
        "    'SVM': SVC(kernel='rbf', random_state=42),\n",
        "    'Neural Network': MLPClassifier(hidden_layer_sizes=(100,50), max_iter=300, random_state=42)\n",
        "}"
      ]
    },
    {
      "cell_type": "code",
      "execution_count": null,
      "metadata": {
        "id": "rppOi_qdY1d1",
        "colab": {
          "base_uri": "https://localhost:8080/"
        },
        "outputId": "b1ea16ac-fb67-4880-a2b5-fc2797979e34"
      },
      "outputs": [
        {
          "output_type": "stream",
          "name": "stdout",
          "text": [
            "\n",
            "--- Logistic Regression Performance ---\n",
            "Weighted F1-Score: 1.0000\n",
            "Weighted Precision: 1.0000\n",
            "Weighted Recall: 1.0000\n",
            "Macro F1-Score: 0.9937\n",
            "Macro Precision: 1.0000\n",
            "Macro Recall: 0.9875\n",
            "\n",
            "--- Random Forest Performance ---\n",
            "Weighted F1-Score: 1.0000\n",
            "Weighted Precision: 1.0000\n",
            "Weighted Recall: 1.0000\n",
            "Macro F1-Score: 1.0000\n",
            "Macro Precision: 1.0000\n",
            "Macro Recall: 1.0000\n",
            "\n",
            "--- Gradient Boosting Performance ---\n",
            "Weighted F1-Score: 1.0000\n",
            "Weighted Precision: 1.0000\n",
            "Weighted Recall: 1.0000\n",
            "Macro F1-Score: 1.0000\n",
            "Macro Precision: 1.0000\n",
            "Macro Recall: 1.0000\n",
            "\n",
            "--- SVM Performance ---\n",
            "Weighted F1-Score: 0.9999\n",
            "Weighted Precision: 0.9999\n",
            "Weighted Recall: 0.9999\n",
            "Macro F1-Score: 0.9737\n",
            "Macro Precision: 0.9999\n",
            "Macro Recall: 0.9500\n",
            "\n",
            "--- Neural Network Performance ---\n",
            "Weighted F1-Score: 1.0000\n",
            "Weighted Precision: 1.0000\n",
            "Weighted Recall: 1.0000\n",
            "Macro F1-Score: 0.9937\n",
            "Macro Precision: 1.0000\n",
            "Macro Recall: 0.9875\n",
            "\n",
            "Best Multi-class Classification Model: Random Forest\n",
            "F1-Score (Weighted): 1.0000\n",
            "F1-Score (Macro): 1.0000\n"
          ]
        }
      ],
      "source": [
        "# Evaluate each model for multi-class classification\n",
        "multiclass_results = {}\n",
        "for name, model in multiclass_models.items():\n",
        "    multiclass_results[name] = evaluate_model(model, X_train_scaled, X_test_scaled, y_train, y_test, name)\n",
        "\n",
        "# Find the best model for multi-class classification\n",
        "best_multiclass_model_name = max(multiclass_results, key=lambda k: multiclass_results[k]['f1_weighted'])\n",
        "print(f\"\\nBest Multi-class Classification Model: {best_multiclass_model_name}\")\n",
        "print(f\"F1-Score (Weighted): {multiclass_results[best_multiclass_model_name]['f1_weighted']:.4f}\")\n",
        "print(f\"F1-Score (Macro): {multiclass_results[best_multiclass_model_name]['f1_macro']:.4f}\")"
      ]
    },
    {
      "cell_type": "markdown",
      "metadata": {
        "id": "X-WTQEALY5vz"
      },
      "source": [
        "## Step 4: Feature Importance Analysis"
      ]
    },
    {
      "cell_type": "code",
      "execution_count": null,
      "metadata": {
        "id": "LpXyqtAcY9jg"
      },
      "outputs": [],
      "source": [
        "def plot_feature_importance(model, feature_names, title):\n",
        "    if hasattr(model, 'feature_importances_'):\n",
        "        # For tree-based models\n",
        "        importances = model.feature_importances_\n",
        "    elif hasattr(model, 'coef_'):\n",
        "        # For linear models\n",
        "        importances = np.abs(model.coef_).mean(axis=0) if model.coef_.ndim > 1 else np.abs(model.coef_)\n",
        "    else:\n",
        "        print(f\"Cannot extract feature importance from {title}\")\n",
        "        return\n",
        "\n",
        "    # Create dataframe for visualization\n",
        "    importance_df = pd.DataFrame({\n",
        "        'Feature': feature_names,\n",
        "        'Importance': importances\n",
        "    })\n",
        "\n",
        "    # Sort by importance\n",
        "    importance_df = importance_df.sort_values('Importance', ascending=False).head(15)\n",
        "\n",
        "    # Plot\n",
        "    plt.figure(figsize=(10, 8))\n",
        "    sns.barplot(x='Importance', y='Feature', data=importance_df)\n",
        "    plt.title(f'Top 15 Feature Importance - {title}')\n",
        "    plt.tight_layout()\n",
        "    plt.savefig(f'feature_importance_{title.replace(\" \", \"_\").lower()}.png')\n",
        "    plt.close()"
      ]
    },
    {
      "cell_type": "code",
      "execution_count": null,
      "metadata": {
        "id": "kffF9uZJZMEX"
      },
      "outputs": [],
      "source": [
        "# Plot feature importance for the best binary model\n",
        "best_binary_model = binary_results[best_binary_model_name]['model']\n",
        "try:\n",
        "    plot_feature_importance(best_binary_model, feature_names, 'Binary Classification')\n",
        "except:\n",
        "    print(\"Could not plot feature importance for binary model\")"
      ]
    },
    {
      "cell_type": "code",
      "execution_count": null,
      "metadata": {
        "id": "EZM0o6w3ZO1z"
      },
      "outputs": [],
      "source": [
        "# Plot feature importance for the best multiclass model\n",
        "best_multiclass_model = multiclass_results[best_multiclass_model_name]['model']\n",
        "try:\n",
        "    plot_feature_importance(best_multiclass_model, feature_names, 'Multi-class Classification')\n",
        "except:\n",
        "    print(\"Could not plot feature importance for multiclass model\")"
      ]
    },
    {
      "cell_type": "markdown",
      "metadata": {
        "id": "AycbZGuEZSoj"
      },
      "source": [
        "## Step 5: Advanced Model - Deep Learning"
      ]
    },
    {
      "cell_type": "code",
      "execution_count": null,
      "metadata": {
        "id": "u0H53e9VZVCW",
        "colab": {
          "base_uri": "https://localhost:8080/"
        },
        "outputId": "c0999c98-166b-47ea-e28b-13f98ab1f2c2"
      },
      "outputs": [
        {
          "output_type": "stream",
          "name": "stdout",
          "text": [
            "\n",
            "===== DEEP LEARNING MODEL =====\n"
          ]
        },
        {
          "output_type": "stream",
          "name": "stderr",
          "text": [
            "/usr/local/lib/python3.11/dist-packages/keras/src/layers/core/dense.py:87: UserWarning: Do not pass an `input_shape`/`input_dim` argument to a layer. When using Sequential models, prefer using an `Input(shape)` object as the first layer in the model instead.\n",
            "  super().__init__(activity_regularizer=activity_regularizer, **kwargs)\n"
          ]
        }
      ],
      "source": [
        "# Deep Learning Model Setup and Training\n",
        "try:\n",
        "    import tensorflow as tf\n",
        "    from tensorflow.keras.models import Sequential\n",
        "    from tensorflow.keras.layers import Dense, Dropout\n",
        "    from tensorflow.keras.callbacks import EarlyStopping\n",
        "    from tensorflow.keras.utils import to_categorical\n",
        "    from sklearn.preprocessing import LabelEncoder\n",
        "\n",
        "    print(\"\\n===== DEEP LEARNING MODEL =====\")\n",
        "\n",
        "    # Encode target variables\n",
        "    le_multi = LabelEncoder()\n",
        "    y_train_encoded = le_multi.fit_transform(y_train)\n",
        "    y_test_encoded = le_multi.transform(y_test)\n",
        "\n",
        "    # Convert to categorical for multi-class\n",
        "    y_train_cat = to_categorical(y_train_encoded)\n",
        "    y_test_cat = to_categorical(y_test_encoded)\n",
        "\n",
        "    # Build model\n",
        "    model = Sequential([\n",
        "        Dense(128, activation='relu', input_shape=(X_train_scaled.shape[1],)),\n",
        "        Dropout(0.3),\n",
        "        Dense(64, activation='relu'),\n",
        "        Dropout(0.2),\n",
        "        Dense(len(le_multi.classes_), activation='softmax')\n",
        "    ])\n",
        "\n",
        "    # Compile model\n",
        "    model.compile(optimizer='adam',\n",
        "                  loss='categorical_crossentropy',\n",
        "                  metrics=['accuracy'])\n",
        "\n",
        "    # Early stopping\n",
        "    early_stopping = EarlyStopping(\n",
        "        monitor='val_loss',\n",
        "        patience=5,\n",
        "        restore_best_weights=True\n",
        "    )\n",
        "\n",
        "except ImportError:\n",
        "    print(\"TensorFlow not available. Skipping deep learning model.\")\n",
        "except Exception as e:\n",
        "    print(f\"Error in deep learning model setup: {e}\")"
      ]
    },
    {
      "cell_type": "code",
      "execution_count": null,
      "metadata": {
        "id": "fYCnMlcmnBVk",
        "colab": {
          "base_uri": "https://localhost:8080/"
        },
        "outputId": "88d6bc10-7853-4f53-afd5-2968f252beb1"
      },
      "outputs": [
        {
          "output_type": "stream",
          "name": "stdout",
          "text": [
            "Epoch 1/30\n",
            "\u001b[1m1142/1142\u001b[0m \u001b[32m━━━━━━━━━━━━━━━━━━━━\u001b[0m\u001b[37m\u001b[0m \u001b[1m5s\u001b[0m 3ms/step - accuracy: 0.9939 - loss: 0.0365 - val_accuracy: 0.9999 - val_loss: 0.0099\n",
            "Epoch 2/30\n",
            "\u001b[1m1142/1142\u001b[0m \u001b[32m━━━━━━━━━━━━━━━━━━━━\u001b[0m\u001b[37m\u001b[0m \u001b[1m6s\u001b[0m 4ms/step - accuracy: 0.9999 - loss: 0.0029 - val_accuracy: 0.9999 - val_loss: 0.0022\n",
            "Epoch 3/30\n",
            "\u001b[1m1142/1142\u001b[0m \u001b[32m━━━━━━━━━━━━━━━━━━━━\u001b[0m\u001b[37m\u001b[0m \u001b[1m3s\u001b[0m 3ms/step - accuracy: 0.9999 - loss: 5.3809e-04 - val_accuracy: 0.9999 - val_loss: 0.0020\n",
            "Epoch 4/30\n",
            "\u001b[1m1142/1142\u001b[0m \u001b[32m━━━━━━━━━━━━━━━━━━━━\u001b[0m\u001b[37m\u001b[0m \u001b[1m5s\u001b[0m 3ms/step - accuracy: 1.0000 - loss: 4.5230e-04 - val_accuracy: 0.9999 - val_loss: 0.0019\n",
            "Epoch 5/30\n",
            "\u001b[1m1142/1142\u001b[0m \u001b[32m━━━━━━━━━━━━━━━━━━━━\u001b[0m\u001b[37m\u001b[0m \u001b[1m5s\u001b[0m 4ms/step - accuracy: 1.0000 - loss: 1.4811e-04 - val_accuracy: 0.9999 - val_loss: 0.0029\n",
            "Epoch 6/30\n",
            "\u001b[1m1142/1142\u001b[0m \u001b[32m━━━━━━━━━━━━━━━━━━━━\u001b[0m\u001b[37m\u001b[0m \u001b[1m4s\u001b[0m 3ms/step - accuracy: 1.0000 - loss: 6.6735e-05 - val_accuracy: 0.9999 - val_loss: 0.0031\n",
            "Epoch 7/30\n",
            "\u001b[1m1142/1142\u001b[0m \u001b[32m━━━━━━━━━━━━━━━━━━━━\u001b[0m\u001b[37m\u001b[0m \u001b[1m3s\u001b[0m 3ms/step - accuracy: 1.0000 - loss: 6.4603e-05 - val_accuracy: 0.9999 - val_loss: 0.0034\n",
            "Epoch 8/30\n",
            "\u001b[1m1142/1142\u001b[0m \u001b[32m━━━━━━━━━━━━━━━━━━━━\u001b[0m\u001b[37m\u001b[0m \u001b[1m6s\u001b[0m 4ms/step - accuracy: 1.0000 - loss: 4.1553e-04 - val_accuracy: 0.9999 - val_loss: 0.0034\n",
            "Epoch 9/30\n",
            "\u001b[1m1142/1142\u001b[0m \u001b[32m━━━━━━━━━━━━━━━━━━━━\u001b[0m\u001b[37m\u001b[0m \u001b[1m4s\u001b[0m 3ms/step - accuracy: 1.0000 - loss: 6.2893e-05 - val_accuracy: 0.9999 - val_loss: 0.0029\n"
          ]
        }
      ],
      "source": [
        "# Model Training\n",
        "try:\n",
        "    # Train model\n",
        "    history = model.fit(\n",
        "        X_train_scaled, y_train_cat,\n",
        "        epochs=30,\n",
        "        batch_size=64,\n",
        "        validation_split=0.2,\n",
        "        callbacks=[early_stopping],\n",
        "        verbose=1\n",
        "    )\n",
        "except NameError:\n",
        "    print(\"Deep learning model not defined. Skipping training.\")\n",
        "except Exception as e:\n",
        "    print(f\"Error in model training: {e}\")"
      ]
    },
    {
      "cell_type": "code",
      "execution_count": null,
      "metadata": {
        "id": "AkSLaoAEnGBE",
        "colab": {
          "base_uri": "https://localhost:8080/"
        },
        "outputId": "0e697191-bf49-4090-d5ae-3e339e3bfd02"
      },
      "outputs": [
        {
          "output_type": "stream",
          "name": "stdout",
          "text": [
            "\u001b[1m1224/1224\u001b[0m \u001b[32m━━━━━━━━━━━━━━━━━━━━\u001b[0m\u001b[37m\u001b[0m \u001b[1m2s\u001b[0m 1ms/step\n",
            "\n",
            "--- Deep Learning Model Performance ---\n",
            "Weighted F1-Score: 0.9999\n",
            "Weighted Precision: 0.9999\n",
            "Weighted Recall: 0.9999\n",
            "Macro F1-Score: 0.9756\n",
            "Macro Precision: 0.9643\n",
            "Macro Recall: 0.9875\n"
          ]
        }
      ],
      "source": [
        "# Model Evaluation\n",
        "try:\n",
        "    # Evaluate model\n",
        "    y_pred_prob = model.predict(X_test_scaled)\n",
        "    y_pred_classes = np.argmax(y_pred_prob, axis=1)\n",
        "    y_test_classes = np.argmax(y_test_cat, axis=1)\n",
        "\n",
        "    # Calculate metrics\n",
        "    f1 = f1_score(y_test_classes, y_pred_classes, average='weighted')\n",
        "    precision = precision_score(y_test_classes, y_pred_classes, average='weighted')\n",
        "    recall = recall_score(y_test_classes, y_pred_classes, average='weighted')\n",
        "\n",
        "    f1_macro = f1_score(y_test_classes, y_pred_classes, average='macro')\n",
        "    precision_macro = precision_score(y_test_classes, y_pred_classes, average='macro')\n",
        "    recall_macro = recall_score(y_test_classes, y_pred_classes, average='macro')\n",
        "\n",
        "    print(\"\\n--- Deep Learning Model Performance ---\")\n",
        "    print(f\"Weighted F1-Score: {f1:.4f}\")\n",
        "    print(f\"Weighted Precision: {precision:.4f}\")\n",
        "    print(f\"Weighted Recall: {recall:.4f}\")\n",
        "    print(f\"Macro F1-Score: {f1_macro:.4f}\")\n",
        "    print(f\"Macro Precision: {precision_macro:.4f}\")\n",
        "    print(f\"Macro Recall: {recall_macro:.4f}\")\n",
        "except NameError:\n",
        "    print(\"Deep learning model not trained. Skipping evaluation.\")\n",
        "except Exception as e:\n",
        "    print(f\"Error in model evaluation: {e}\")"
      ]
    },
    {
      "cell_type": "code",
      "execution_count": null,
      "metadata": {
        "id": "XhRxW3YRnJ-q",
        "colab": {
          "base_uri": "https://localhost:8080/",
          "height": 562
        },
        "outputId": "91af55ff-07d2-4e49-f663-4baf98d9f326"
      },
      "outputs": [
        {
          "output_type": "display_data",
          "data": {
            "text/plain": [
              "<Figure size 1200x500 with 2 Axes>"
            ],
            "image/png": "[encoded data removed]"
          },
          "metadata": {}
        },
        {
          "output_type": "stream",
          "name": "stderr",
          "text": [
            "WARNING:absl:You are saving your model as an HDF5 file via `model.save()` or `keras.saving.save_model(model)`. This file format is considered legacy. We recommend using instead the native Keras format, e.g. `model.save('my_model.keras')` or `keras.saving.save_model(model, 'my_model.keras')`. \n"
          ]
        },
        {
          "output_type": "stream",
          "name": "stdout",
          "text": [
            "Deep Learning model saved to 'deep_learning_model.h5'\n"
          ]
        }
      ],
      "source": [
        "# Visualize Training History\n",
        "try:\n",
        "    # Plot training history\n",
        "    plt.figure(figsize=(12, 5))\n",
        "    plt.subplot(1, 2, 1)\n",
        "    plt.plot(history.history['accuracy'])\n",
        "    plt.plot(history.history['val_accuracy'])\n",
        "    plt.title('Model Accuracy')\n",
        "    plt.ylabel('Accuracy')\n",
        "    plt.xlabel('Epoch')\n",
        "    plt.legend(['Train', 'Validation'], loc='lower right')\n",
        "\n",
        "    plt.subplot(1, 2, 2)\n",
        "    plt.plot(history.history['loss'])\n",
        "    plt.plot(history.history['val_loss'])\n",
        "    plt.title('Model Loss')\n",
        "    plt.ylabel('Loss')\n",
        "    plt.xlabel('Epoch')\n",
        "    plt.legend(['Train', 'Validation'], loc='upper right')\n",
        "    plt.tight_layout()\n",
        "    plt.savefig('deep_learning_training_history.png')\n",
        "    plt.show()\n",
        "\n",
        "    # Save the model\n",
        "    model.save('deep_learning_model.h5')\n",
        "    print(\"Deep Learning model saved to 'deep_learning_model.h5'\")\n",
        "except NameError:\n",
        "    print(\"Training history not available. Skipping visualization.\")\n",
        "except Exception as e:\n",
        "    print(f\"Error in history visualization: {e}\")"
      ]
    },
    {
      "cell_type": "markdown",
      "metadata": {
        "id": "le9B1Qe_nSwh"
      },
      "source": [
        "## Step 6: Dashboard & Visualization (for Task II)"
      ]
    },
    {
      "cell_type": "code",
      "execution_count": null,
      "metadata": {
        "id": "I8rYtvOvnZgD"
      },
      "outputs": [],
      "source": [
        "# Create Visualization Function\n",
        "def create_visualizations():\n",
        "    # 1. Attack Distribution Pie Chart\n",
        "    plt.figure(figsize=(10, 6))\n",
        "    attack_counts = df['attack_type'].value_counts()\n",
        "    plt.pie(attack_counts, labels=attack_counts.index, autopct='%1.1f%%', startangle=90, shadow=True)\n",
        "    plt.title('Distribution of Attack Types')\n",
        "    plt.axis('equal')\n",
        "    plt.tight_layout()\n",
        "    plt.savefig('attack_distribution.png')\n",
        "    plt.show()\n",
        "\n",
        "    # 2. Traffic Volume by Time\n",
        "    if 'StartTime' in df.columns and 'hour' in df.columns:\n",
        "        plt.figure(figsize=(12, 6))\n",
        "        df_hourly = df.groupby(['hour', 'attack_type']).size().unstack().fillna(0)\n",
        "        df_hourly.plot(kind='bar', stacked=True)\n",
        "        plt.title('Traffic Volume by Hour of Day')\n",
        "        plt.xlabel('Hour')\n",
        "        plt.ylabel('Number of Traffic Records')\n",
        "        plt.legend(title='Attack Type')\n",
        "        plt.tight_layout()\n",
        "        plt.savefig('traffic_by_hour.png')\n",
        "        plt.show()\n",
        "\n",
        "    # 3. Feature Correlation Heatmap\n",
        "    plt.figure(figsize=(12, 10))\n",
        "    corr_matrix = df_processed.select_dtypes(include=['float64', 'int64']).corr()\n",
        "    mask = np.triu(np.ones_like(corr_matrix, dtype=bool))\n",
        "    sns.heatmap(corr_matrix, annot=False, mask=mask, cmap='coolwarm', linewidths=0.5)\n",
        "    plt.title('Feature Correlation Heatmap')\n",
        "    plt.tight_layout()\n",
        "    plt.savefig('correlation_heatmap.png')\n",
        "    plt.show()\n",
        "\n",
        "    # 4. Confusion Matrix Visualization\n",
        "    plt.figure(figsize=(10, 8))\n",
        "    cm = multiclass_results[best_multiclass_model_name]['confusion_matrix']\n",
        "    sns.heatmap(cm, annot=True, fmt='d', cmap='Blues',\n",
        "                xticklabels=np.unique(y_test),\n",
        "                yticklabels=np.unique(y_test))\n",
        "    plt.title(f'Confusion Matrix - {best_multiclass_model_name}')\n",
        "    plt.ylabel('True Label')\n",
        "    plt.xlabel('Predicted Label')\n",
        "    plt.tight_layout()\n",
        "    plt.savefig('confusion_matrix.png')\n",
        "    plt.show()\n",
        "\n",
        "    # 5. Model Comparison Bar Chart\n",
        "    plt.figure(figsize=(12, 6))\n",
        "    model_names = list(multiclass_results.keys())\n",
        "    f1_scores_weighted = [multiclass_results[name]['f1_weighted'] for name in model_names]\n",
        "    f1_scores_macro = [multiclass_results[name]['f1_macro'] for name in model_names]\n",
        "\n",
        "    x = np.arange(len(model_names))\n",
        "    width = 0.35\n",
        "\n",
        "    plt.bar(x - width/2, f1_scores_weighted, width, label='Weighted F1')\n",
        "    plt.bar(x + width/2, f1_scores_macro, width, label='Macro F1')\n",
        "\n",
        "    plt.xlabel('Model')\n",
        "    plt.ylabel('F1 Score')\n",
        "    plt.title('Model Performance Comparison')\n",
        "    plt.xticks(x, model_names, rotation=45)\n",
        "    plt.legend()\n",
        "    plt.tight_layout()\n",
        "    plt.savefig('model_comparison.png')\n",
        "    plt.show()"
      ]
    },
    {
      "cell_type": "code",
      "execution_count": null,
      "metadata": {
        "id": "pO5tHGM9n1us",
        "colab": {
          "base_uri": "https://localhost:8080/",
          "height": 1000
        },
        "outputId": "52b2fa55-62de-4bc1-bc45-8f128808ecb9"
      },
      "outputs": [
        {
          "output_type": "display_data",
          "data": {
            "text/plain": [
              "<Figure size 1000x600 with 1 Axes>"
            ],
            "image/png": "[encoded data removed]"
          },
          "metadata": {}
        },
        {
          "output_type": "display_data",
          "data": {
            "text/plain": [
              "<Figure size 1200x600 with 0 Axes>"
            ]
          },
          "metadata": {}
        },
        {
          "output_type": "display_data",
          "data": {
            "text/plain": [
              "<Figure size 640x480 with 1 Axes>"
            ],
            "image/png": "[encoded data removed]"
          },
          "metadata": {}
        },
        {
          "output_type": "display_data",
          "data": {
            "text/plain": [
              "<Figure size 1200x1000 with 2 Axes>"
            ],
            "image/png": "[encoded data removed]"
          },
          "metadata": {}
        },
        {
          "output_type": "display_data",
          "data": {
            "text/plain": [
              "<Figure size 1000x800 with 2 Axes>"
            ],
            "image/png": "[encoded data removed]"
          },
          "metadata": {}
        },
        {
          "output_type": "display_data",
          "data": {
            "text/plain": [
              "<Figure size 1200x600 with 1 Axes>"
            ],
            "image/png": "[encoded data removed]"
          },
          "metadata": {}
        }
      ],
      "source": [
        "# Create Visualizations\n",
        "# Run all the visualization functions\n",
        "create_visualizations()"
      ]
    },
    {
      "cell_type": "code",
      "execution_count": null,
      "metadata": {
        "id": "bEl3GGQN92aR"
      },
      "outputs": [],
      "source": [
        "# Create an HTML dashboard\n",
        "dashboard_html = \"\"\"\n",
        "<!DOCTYPE html>\n",
        "<html>\n",
        "<head>\n",
        "    <title>Cybersecurity ML Dashboard</title>\n",
        "    <style>\n",
        "        body {\n",
        "            font-family: Arial, sans-serif;\n",
        "            margin: 20px;\n",
        "            background-color: #f5f5f5;\n",
        "            color: #333;\n",
        "        }\n",
        "        h1, h2 {\n",
        "            color: #333;\n",
        "        }\n",
        "        .container {\n",
        "            display: flex;\n",
        "            flex-wrap: wrap;\n",
        "            justify-content: space-around;\n",
        "        }\n",
        "        .card {\n",
        "            background-color: white;\n",
        "            border-radius: 8px;\n",
        "            box-shadow: 0 4px 8px rgba(0, 0, 0, 0.2);\n",
        "            margin: 15px;\n",
        "            padding: 20px;\n",
        "            width: calc(50% - 70px);\n",
        "        }\n",
        "        .full-width {\n",
        "            width: calc(100% - 70px);\n",
        "        }\n",
        "        .card h2 {\n",
        "            border-bottom: 1px solid #ccc;\n",
        "            padding-bottom: 10px;\n",
        "            color: #333;\n",
        "        }\n",
        "        img {\n",
        "            max-width: 100%;\n",
        "            height: auto;\n",
        "            display: block;\n",
        "            margin: 0 auto;\n",
        "            border: 1px solid #ddd;\n",
        "            background-color: #f8f8f8;\n",
        "            padding: 5px;\n",
        "        }\n",
        "        table {\n",
        "            width: 100%;\n",
        "            border-collapse: collapse;\n",
        "            margin-top: 15px;\n",
        "            border: 2px solid #ddd;\n",
        "        }\n",
        "        th, td {\n",
        "            padding: 12px;\n",
        "            text-align: left;\n",
        "            border-bottom: 1px solid #aaa;\n",
        "            border-right: 1px solid #aaa;\n",
        "        }\n",
        "        th {\n",
        "            background-color: #445566;\n",
        "            color: white;\n",
        "            font-weight: bold;\n",
        "        }\n",
        "        tr:nth-child(even) {\n",
        "            background-color: #f2f2f2;\n",
        "        }\n",
        "        tr:nth-child(odd) {\n",
        "            background-color: #e6e6e6;\n",
        "        }\n",
        "        tr:hover {\n",
        "            background-color: #ddd;\n",
        "        }\n",
        "        td {\n",
        "            color: #333;\n",
        "        }\n",
        "        .img-container {\n",
        "            position: relative;\n",
        "            width: 100%;\n",
        "            height: 300px;\n",
        "            border: 1px dashed #ccc;\n",
        "            overflow: hidden;\n",
        "            display: flex;\n",
        "            align-items: center;\n",
        "            justify-content: center;\n",
        "            background-color: #f8f8f8;\n",
        "            margin-bottom: 10px;\n",
        "        }\n",
        "        .img-container img {\n",
        "            max-width: 100%;\n",
        "            max-height: 100%;\n",
        "            object-fit: contain;\n",
        "            border: none;\n",
        "            padding: 0;\n",
        "            background: none;\n",
        "        }\n",
        "        .img-placeholder {\n",
        "            width: 100%;\n",
        "            height: 300px;\n",
        "            background-color: #f0f0f0;\n",
        "            display: flex;\n",
        "            align-items: center;\n",
        "            justify-content: center;\n",
        "            border: 1px dashed #999;\n",
        "            color: #666;\n",
        "            font-weight: bold;\n",
        "            text-align: center;\n",
        "        }\n",
        "        .upload-btn {\n",
        "            display: block;\n",
        "            width: 100%;\n",
        "            padding: 10px;\n",
        "            background-color: #4CAF50;\n",
        "            color: white;\n",
        "            border: none;\n",
        "            border-radius: 4px;\n",
        "            cursor: pointer;\n",
        "            text-align: center;\n",
        "            margin-top: 5px;\n",
        "        }\n",
        "        .upload-btn:hover {\n",
        "            background-color: #45a049;\n",
        "        }\n",
        "        .note {\n",
        "            font-style: italic;\n",
        "            margin-top: 10px;\n",
        "            color: #666;\n",
        "        }\n",
        "        .card-footer {\n",
        "            margin-top: 15px;\n",
        "            border-top: 1px solid #eee;\n",
        "            padding-top: 10px;\n",
        "            font-size: 0.9em;\n",
        "            color: #666;\n",
        "        }\n",
        "        .best-model-row {\n",
        "            font-weight: bold;\n",
        "            background-color: #e6f7ff;\n",
        "            border-left: 4px solid #1890ff;\n",
        "        }\n",
        "        .best-model-row td {\n",
        "            color: #000 !important;\n",
        "        }\n",
        "    </style>\n",
        "    <script>\n",
        "        function handleImageUpload(input, imgId) {\n",
        "            const file = input.files[0];\n",
        "            if (file) {\n",
        "                const reader = new FileReader();\n",
        "                reader.onload = function(e) {\n",
        "                    const img = document.getElementById(imgId);\n",
        "                    img.src = e.target.result;\n",
        "                    img.style.display = 'block';\n",
        "\n",
        "                    const placeholder = document.getElementById(imgId + '-placeholder');\n",
        "                    if (placeholder) {\n",
        "                        placeholder.style.display = 'none';\n",
        "                    }\n",
        "                };\n",
        "                reader.readAsDataURL(file);\n",
        "            }\n",
        "        }\n",
        "    </script>\n",
        "</head>\n",
        "<body>\n",
        "    <h1>Cybersecurity Traffic Analysis Dashboard</h1>\n",
        "\n",
        "    <div class=\"container\">\n",
        "        <div class=\"card\">\n",
        "            <h2>Attack Type Distribution</h2>\n",
        "            <div class=\"img-container\">\n",
        "                <img id=\"img-attack-distribution\" style=\"display: none;\">\n",
        "                <div id=\"img-attack-distribution-placeholder\" class=\"img-placeholder\">\n",
        "                    Upload Attack Distribution Image\n",
        "                </div>\n",
        "            </div>\n",
        "            <input type=\"file\" id=\"upload-attack-distribution\" style=\"display: none;\" accept=\"image/*\" onchange=\"handleImageUpload(this, 'img-attack-distribution')\">\n",
        "            <label for=\"upload-attack-distribution\" class=\"upload-btn\">Upload Image</label>\n",
        "            <div class=\"card-footer\">\n",
        "                Shows the distribution of various attack types detected in the network traffic.\n",
        "            </div>\n",
        "        </div>\n",
        "\n",
        "        <div class=\"card\">\n",
        "            <h2>Traffic by Hour of Day</h2>\n",
        "            <div class=\"img-container\">\n",
        "                <img id=\"img-traffic-by-hour\" style=\"display: none;\">\n",
        "                <div id=\"img-traffic-by-hour-placeholder\" class=\"img-placeholder\">\n",
        "                    Upload Traffic by Hour Image\n",
        "                </div>\n",
        "            </div>\n",
        "            <input type=\"file\" id=\"upload-traffic-by-hour\" style=\"display: none;\" accept=\"image/*\" onchange=\"handleImageUpload(this, 'img-traffic-by-hour')\">\n",
        "            <label for=\"upload-traffic-by-hour\" class=\"upload-btn\">Upload Image</label>\n",
        "            <div class=\"card-footer\">\n",
        "                Displays network traffic patterns throughout the day, broken down by attack types.\n",
        "            </div>\n",
        "        </div>\n",
        "\n",
        "        <div class=\"card full-width\">\n",
        "            <h2>Model Performance Comparison</h2>\n",
        "            <div class=\"img-container\">\n",
        "                <img id=\"img-model-comparison\" style=\"display: none;\">\n",
        "                <div id=\"img-model-comparison-placeholder\" class=\"img-placeholder\">\n",
        "                    Upload Model Comparison Image\n",
        "                </div>\n",
        "            </div>\n",
        "            <input type=\"file\" id=\"upload-model-comparison\" style=\"display: none;\" accept=\"image/*\" onchange=\"handleImageUpload(this, 'img-model-comparison')\">\n",
        "            <label for=\"upload-model-comparison\" class=\"upload-btn\">Upload Image</label>\n",
        "            <div class=\"card-footer\">\n",
        "                Compares the performance metrics of different machine learning models used for attack classification.\n",
        "            </div>\n",
        "        </div>\n",
        "\n",
        "        <div class=\"card\">\n",
        "            <h2>Confusion Matrix</h2>\n",
        "            <div class=\"img-container\">\n",
        "                <img id=\"img-confusion-matrix\" style=\"display: none;\">\n",
        "                <div id=\"img-confusion-matrix-placeholder\" class=\"img-placeholder\">\n",
        "                    Upload Confusion Matrix Image\n",
        "                </div>\n",
        "            </div>\n",
        "            <input type=\"file\" id=\"upload-confusion-matrix\" style=\"display: none;\" accept=\"image/*\" onchange=\"handleImageUpload(this, 'img-confusion-matrix')\">\n",
        "            <label for=\"upload-confusion-matrix\" class=\"upload-btn\">Upload Image</label>\n",
        "            <div class=\"card-footer\">\n",
        "                Shows the performance of the classification model by comparing predicted vs. actual classes.\n",
        "            </div>\n",
        "        </div>\n",
        "\n",
        "        <div class=\"card\">\n",
        "            <h2>Feature Importance</h2>\n",
        "            <div class=\"img-container\">\n",
        "                <img id=\"img-feature-importance\" style=\"display: none;\">\n",
        "                <div id=\"img-feature-importance-placeholder\" class=\"img-placeholder\">\n",
        "                    Upload Feature Importance Image\n",
        "                </div>\n",
        "            </div>\n",
        "            <input type=\"file\" id=\"upload-feature-importance\" style=\"display: none;\" accept=\"image/*\" onchange=\"handleImageUpload(this, 'img-feature-importance')\">\n",
        "            <label for=\"upload-feature-importance\" class=\"upload-btn\">Upload Image</label>\n",
        "            <div class=\"card-footer\">\n",
        "                Illustrates which features were most important in the classification model.\n",
        "            </div>\n",
        "        </div>\n",
        "\n",
        "        <div class=\"card full-width\">\n",
        "            <h2>Model Performance Metrics</h2>\n",
        "            <table>\n",
        "                <tr>\n",
        "                    <th>Model</th>\n",
        "                    <th>F1 (Weighted)</th>\n",
        "                    <th>F1 (Macro)</th>\n",
        "                    <th>Precision (Weighted)</th>\n",
        "                    <th>Recall (Weighted)</th>\n",
        "                </tr>\n",
        "                <tr>\n",
        "                    <td>Logistic Regression</td>\n",
        "                    <td>1.0000</td>\n",
        "                    <td>0.9937</td>\n",
        "                    <td>1.0000</td>\n",
        "                    <td>1.0000</td>\n",
        "                </tr>\n",
        "                <tr class=\"best-model-row\">\n",
        "                    <td>Random Forest</td>\n",
        "                    <td>1.0000</td>\n",
        "                    <td>1.0000</td>\n",
        "                    <td>1.0000</td>\n",
        "                    <td>1.0000</td>\n",
        "                </tr>\n",
        "                <tr>\n",
        "                    <td>Gradient Boosting</td>\n",
        "                    <td>1.0000</td>\n",
        "                    <td>1.0000</td>\n",
        "                    <td>1.0000</td>\n",
        "                    <td>1.0000</td>\n",
        "                </tr>\n",
        "                <tr>\n",
        "                    <td>SVM</td>\n",
        "                    <td>0.9999</td>\n",
        "                    <td>0.9737</td>\n",
        "                    <td>0.9999</td>\n",
        "                    <td>0.9999</td>\n",
        "                </tr>\n",
        "                <tr>\n",
        "                    <td>Neural Network</td>\n",
        "                    <td>1.0000</td>\n",
        "                    <td>0.9937</td>\n",
        "                    <td>1.0000</td>\n",
        "                    <td>1.0000</td>\n",
        "                </tr>\n",
        "                <tr>\n",
        "                    <td>Deep Learning</td>\n",
        "                    <td>0.9999</td>\n",
        "                    <td>0.9756</td>\n",
        "                    <td>0.9999</td>\n",
        "                    <td>0.9999</td>\n",
        "                </tr>\n",
        "            </table>\n",
        "            <div class=\"card-footer\">\n",
        "                <p class=\"note\">Note: Random Forest is the best performing model with perfect scores across all metrics.</p>\n",
        "            </div>\n",
        "        </div>\n",
        "    </div>\n",
        "\n",
        "    <script>\n",
        "        document.addEventListener('DOMContentLoaded', function() {\n",
        "            console.log('Dashboard loaded successfully');\n",
        "        });\n",
        "    </script>\n",
        "</body>\n",
        "</html>\n",
        "\"\"\""
      ]
    },
    {
      "cell_type": "code",
      "execution_count": null,
      "metadata": {
        "id": "mDayPIZ2979a"
      },
      "outputs": [],
      "source": [
        "# Add rows for each model\n",
        "for name in multiclass_results:\n",
        "    dashboard_html += f\"\"\"\n",
        "                <tr>\n",
        "                    <td>{name}</td>\n",
        "                    <td>{multiclass_results[name]['f1_weighted']:.4f}</td>\n",
        "                    <td>{multiclass_results[name]['f1_macro']:.4f}</td>\n",
        "                    <td>{multiclass_results[name]['precision_weighted']:.4f}</td>\n",
        "                    <td>{multiclass_results[name]['recall_weighted']:.4f}</td>\n",
        "                </tr>\n",
        "\"\"\"\n",
        "\n",
        "# Complete the HTML\n",
        "dashboard_html += \"\"\"\n",
        "            </table>\n",
        "        </div>\n",
        "    </div>\n",
        "</body>\n",
        "</html>\n",
        "\"\"\""
      ]
    },
    {
      "cell_type": "code",
      "execution_count": null,
      "metadata": {
        "id": "BTdBImem-M3C",
        "colab": {
          "base_uri": "https://localhost:8080/"
        },
        "outputId": "a436cf77-64d6-4c49-bb62-f79bee3906bf"
      },
      "outputs": [
        {
          "output_type": "stream",
          "name": "stdout",
          "text": [
            "\n",
            "===== DASHBOARD CREATED =====\n",
            "HTML Dashboard saved as: 'cybersecurity_dashboard.html'\n"
          ]
        }
      ],
      "source": [
        "# Save dashboard\n",
        "with open('cybersecurity_dashboard.html', 'w') as f:\n",
        "    f.write(dashboard_html)\n",
        "\n",
        "print(\"\\n===== DASHBOARD CREATED =====\")\n",
        "print(\"HTML Dashboard saved as: 'cybersecurity_dashboard.html'\")\n"
      ]
    },
    {
      "cell_type": "code",
      "execution_count": null,
      "metadata": {
        "id": "78eqaUZH-T9G",
        "colab": {
          "base_uri": "https://localhost:8080/",
          "height": 1000
        },
        "outputId": "5261c2ae-dd5d-4d19-9942-850b2212e3c1"
      },
      "outputs": [
        {
          "output_type": "display_data",
          "data": {
            "text/plain": [
              "<IPython.core.display.HTML object>"
            ],
            "text/html": [
              "\n",
              "<!DOCTYPE html>\n",
              "<html>\n",
              "<head>\n",
              "    <title>Cybersecurity ML Dashboard</title>\n",
              "    <style>\n",
              "        body {\n",
              "            font-family: Arial, sans-serif;\n",
              "            margin: 20px;\n",
              "            background-color: #f5f5f5;\n",
              "            color: #333;\n",
              "        }\n",
              "        h1, h2 {\n",
              "            color: #333;\n",
              "        }\n",
              "        .container {\n",
              "            display: flex;\n",
              "            flex-wrap: wrap;\n",
              "            justify-content: space-around;\n",
              "        }\n",
              "        .card {\n",
              "            background-color: white;\n",
              "            border-radius: 8px;\n",
              "            box-shadow: 0 4px 8px rgba(0, 0, 0, 0.2);\n",
              "            margin: 15px;\n",
              "            padding: 20px;\n",
              "            width: calc(50% - 70px);\n",
              "        }\n",
              "        .full-width {\n",
              "            width: calc(100% - 70px);\n",
              "        }\n",
              "        .card h2 {\n",
              "            border-bottom: 1px solid #ccc;\n",
              "            padding-bottom: 10px;\n",
              "            color: #333;\n",
              "        }\n",
              "        img {\n",
              "            max-width: 100%;\n",
              "            height: auto;\n",
              "            display: block;\n",
              "            margin: 0 auto;\n",
              "            border: 1px solid #ddd;\n",
              "            background-color: #f8f8f8;\n",
              "            padding: 5px;\n",
              "        }\n",
              "        table {\n",
              "            width: 100%;\n",
              "            border-collapse: collapse;\n",
              "            margin-top: 15px;\n",
              "            border: 2px solid #ddd;\n",
              "        }\n",
              "        th, td {\n",
              "            padding: 12px;\n",
              "            text-align: left;\n",
              "            border-bottom: 1px solid #aaa;\n",
              "            border-right: 1px solid #aaa;\n",
              "        }\n",
              "        th {\n",
              "            background-color: #445566;\n",
              "            color: white;\n",
              "            font-weight: bold;\n",
              "        }\n",
              "        tr:nth-child(even) {\n",
              "            background-color: #f2f2f2;\n",
              "        }\n",
              "        tr:nth-child(odd) {\n",
              "            background-color: #e6e6e6;\n",
              "        }\n",
              "        tr:hover {\n",
              "            background-color: #ddd;\n",
              "        }\n",
              "        td {\n",
              "            color: #333;\n",
              "        }\n",
              "        .img-container {\n",
              "            position: relative;\n",
              "            width: 100%;\n",
              "            height: 300px;\n",
              "            border: 1px dashed #ccc;\n",
              "            overflow: hidden;\n",
              "            display: flex;\n",
              "            align-items: center;\n",
              "            justify-content: center;\n",
              "            background-color: #f8f8f8;\n",
              "            margin-bottom: 10px;\n",
              "        }\n",
              "        .img-container img {\n",
              "            max-width: 100%;\n",
              "            max-height: 100%;\n",
              "            object-fit: contain;\n",
              "            border: none;\n",
              "            padding: 0;\n",
              "            background: none;\n",
              "        }\n",
              "        .img-placeholder {\n",
              "            width: 100%;\n",
              "            height: 300px;\n",
              "            background-color: #f0f0f0;\n",
              "            display: flex;\n",
              "            align-items: center;\n",
              "            justify-content: center;\n",
              "            border: 1px dashed #999;\n",
              "            color: #666;\n",
              "            font-weight: bold;\n",
              "            text-align: center;\n",
              "        }\n",
              "        .upload-btn {\n",
              "            display: block;\n",
              "            width: 100%;\n",
              "            padding: 10px;\n",
              "            background-color: #4CAF50;\n",
              "            color: white;\n",
              "            border: none;\n",
              "            border-radius: 4px;\n",
              "            cursor: pointer;\n",
              "            text-align: center;\n",
              "            margin-top: 5px;\n",
              "        }\n",
              "        .upload-btn:hover {\n",
              "            background-color: #45a049;\n",
              "        }\n",
              "        .note {\n",
              "            font-style: italic;\n",
              "            margin-top: 10px;\n",
              "            color: #666;\n",
              "        }\n",
              "        .card-footer {\n",
              "            margin-top: 15px;\n",
              "            border-top: 1px solid #eee;\n",
              "            padding-top: 10px;\n",
              "            font-size: 0.9em;\n",
              "            color: #666;\n",
              "        }\n",
              "        .best-model-row {\n",
              "            font-weight: bold;\n",
              "            background-color: #e6f7ff;\n",
              "            border-left: 4px solid #1890ff;\n",
              "        }\n",
              "        .best-model-row td {\n",
              "            color: #000 !important;\n",
              "        }\n",
              "    </style>\n",
              "    <script>\n",
              "        function handleImageUpload(input, imgId) {\n",
              "            const file = input.files[0];\n",
              "            if (file) {\n",
              "                const reader = new FileReader();\n",
              "                reader.onload = function(e) {\n",
              "                    const img = document.getElementById(imgId);\n",
              "                    img.src = e.target.result;\n",
              "                    img.style.display = 'block';\n",
              "                    \n",
              "                    const placeholder = document.getElementById(imgId + '-placeholder');\n",
              "                    if (placeholder) {\n",
              "                        placeholder.style.display = 'none';\n",
              "                    }\n",
              "                };\n",
              "                reader.readAsDataURL(file);\n",
              "            }\n",
              "        }\n",
              "    </script>\n",
              "</head>\n",
              "<body>\n",
              "    <h1>Cybersecurity Traffic Analysis Dashboard</h1>\n",
              "    \n",
              "    <div class=\"container\">\n",
              "        <div class=\"card\">\n",
              "            <h2>Attack Type Distribution</h2>\n",
              "            <div class=\"img-container\">\n",
              "                <img id=\"img-attack-distribution\" style=\"display: none;\">\n",
              "                <div id=\"img-attack-distribution-placeholder\" class=\"img-placeholder\">\n",
              "                    Upload Attack Distribution Image\n",
              "                </div>\n",
              "            </div>\n",
              "            <input type=\"file\" id=\"upload-attack-distribution\" style=\"display: none;\" accept=\"image/*\" onchange=\"handleImageUpload(this, 'img-attack-distribution')\">\n",
              "            <label for=\"upload-attack-distribution\" class=\"upload-btn\">Upload Image</label>\n",
              "            <div class=\"card-footer\">\n",
              "                Shows the distribution of various attack types detected in the network traffic.\n",
              "            </div>\n",
              "        </div>\n",
              "        \n",
              "        <div class=\"card\">\n",
              "            <h2>Traffic by Hour of Day</h2>\n",
              "            <div class=\"img-container\">\n",
              "                <img id=\"img-traffic-by-hour\" style=\"display: none;\">\n",
              "                <div id=\"img-traffic-by-hour-placeholder\" class=\"img-placeholder\">\n",
              "                    Upload Traffic by Hour Image\n",
              "                </div>\n",
              "            </div>\n",
              "            <input type=\"file\" id=\"upload-traffic-by-hour\" style=\"display: none;\" accept=\"image/*\" onchange=\"handleImageUpload(this, 'img-traffic-by-hour')\">\n",
              "            <label for=\"upload-traffic-by-hour\" class=\"upload-btn\">Upload Image</label>\n",
              "            <div class=\"card-footer\">\n",
              "                Displays network traffic patterns throughout the day, broken down by attack types.\n",
              "            </div>\n",
              "        </div>\n",
              "        \n",
              "        <div class=\"card full-width\">\n",
              "            <h2>Model Performance Comparison</h2>\n",
              "            <div class=\"img-container\">\n",
              "                <img id=\"img-model-comparison\" style=\"display: none;\">\n",
              "                <div id=\"img-model-comparison-placeholder\" class=\"img-placeholder\">\n",
              "                    Upload Model Comparison Image\n",
              "                </div>\n",
              "            </div>\n",
              "            <input type=\"file\" id=\"upload-model-comparison\" style=\"display: none;\" accept=\"image/*\" onchange=\"handleImageUpload(this, 'img-model-comparison')\">\n",
              "            <label for=\"upload-model-comparison\" class=\"upload-btn\">Upload Image</label>\n",
              "            <div class=\"card-footer\">\n",
              "                Compares the performance metrics of different machine learning models used for attack classification.\n",
              "            </div>\n",
              "        </div>\n",
              "        \n",
              "        <div class=\"card\">\n",
              "            <h2>Confusion Matrix</h2>\n",
              "            <div class=\"img-container\">\n",
              "                <img id=\"img-confusion-matrix\" style=\"display: none;\">\n",
              "                <div id=\"img-confusion-matrix-placeholder\" class=\"img-placeholder\">\n",
              "                    Upload Confusion Matrix Image\n",
              "                </div>\n",
              "            </div>\n",
              "            <input type=\"file\" id=\"upload-confusion-matrix\" style=\"display: none;\" accept=\"image/*\" onchange=\"handleImageUpload(this, 'img-confusion-matrix')\">\n",
              "            <label for=\"upload-confusion-matrix\" class=\"upload-btn\">Upload Image</label>\n",
              "            <div class=\"card-footer\">\n",
              "                Shows the performance of the classification model by comparing predicted vs. actual classes.\n",
              "            </div>\n",
              "        </div>\n",
              "        \n",
              "        <div class=\"card\">\n",
              "            <h2>Feature Importance</h2>\n",
              "            <div class=\"img-container\">\n",
              "                <img id=\"img-feature-importance\" style=\"display: none;\">\n",
              "                <div id=\"img-feature-importance-placeholder\" class=\"img-placeholder\">\n",
              "                    Upload Feature Importance Image\n",
              "                </div>\n",
              "            </div>\n",
              "            <input type=\"file\" id=\"upload-feature-importance\" style=\"display: none;\" accept=\"image/*\" onchange=\"handleImageUpload(this, 'img-feature-importance')\">\n",
              "            <label for=\"upload-feature-importance\" class=\"upload-btn\">Upload Image</label>\n",
              "            <div class=\"card-footer\">\n",
              "                Illustrates which features were most important in the classification model.\n",
              "            </div>\n",
              "        </div>\n",
              "        \n",
              "        <div class=\"card full-width\">\n",
              "            <h2>Model Performance Metrics</h2>\n",
              "            <table>\n",
              "                <tr>\n",
              "                    <th>Model</th>\n",
              "                    <th>F1 (Weighted)</th>\n",
              "                    <th>F1 (Macro)</th>\n",
              "                    <th>Precision (Weighted)</th>\n",
              "                    <th>Recall (Weighted)</th>\n",
              "                </tr>\n",
              "                <tr>\n",
              "                    <td>Logistic Regression</td>\n",
              "                    <td>1.0000</td>\n",
              "                    <td>0.9937</td>\n",
              "                    <td>1.0000</td>\n",
              "                    <td>1.0000</td>\n",
              "                </tr>\n",
              "                <tr class=\"best-model-row\">\n",
              "                    <td>Random Forest</td>\n",
              "                    <td>1.0000</td>\n",
              "                    <td>1.0000</td>\n",
              "                    <td>1.0000</td>\n",
              "                    <td>1.0000</td>\n",
              "                </tr>\n",
              "                <tr>\n",
              "                    <td>Gradient Boosting</td>\n",
              "                    <td>1.0000</td>\n",
              "                    <td>1.0000</td>\n",
              "                    <td>1.0000</td>\n",
              "                    <td>1.0000</td>\n",
              "                </tr>\n",
              "                <tr>\n",
              "                    <td>SVM</td>\n",
              "                    <td>0.9999</td>\n",
              "                    <td>0.9737</td>\n",
              "                    <td>0.9999</td>\n",
              "                    <td>0.9999</td>\n",
              "                </tr>\n",
              "                <tr>\n",
              "                    <td>Neural Network</td>\n",
              "                    <td>1.0000</td>\n",
              "                    <td>0.9937</td>\n",
              "                    <td>1.0000</td>\n",
              "                    <td>1.0000</td>\n",
              "                </tr>\n",
              "                <tr>\n",
              "                    <td>Deep Learning</td>\n",
              "                    <td>0.9999</td>\n",
              "                    <td>0.9756</td>\n",
              "                    <td>0.9999</td>\n",
              "                    <td>0.9999</td>\n",
              "                </tr>\n",
              "            </table>\n",
              "            <div class=\"card-footer\">\n",
              "                <p class=\"note\">Note: Random Forest is the best performing model with perfect scores across all metrics.</p>\n",
              "            </div>\n",
              "        </div>\n",
              "    </div>\n",
              "    \n",
              "    <script>\n",
              "        document.addEventListener('DOMContentLoaded', function() {\n",
              "            console.log('Dashboard loaded successfully');\n",
              "        });\n",
              "    </script>\n",
              "</body>\n",
              "</html>\n",
              "\n",
              "                <tr>\n",
              "                    <td>Logistic Regression</td>\n",
              "                    <td>1.0000</td>\n",
              "                    <td>0.9937</td>\n",
              "                    <td>1.0000</td>\n",
              "                    <td>1.0000</td>\n",
              "                </tr>\n",
              "\n",
              "                <tr>\n",
              "                    <td>Random Forest</td>\n",
              "                    <td>1.0000</td>\n",
              "                    <td>1.0000</td>\n",
              "                    <td>1.0000</td>\n",
              "                    <td>1.0000</td>\n",
              "                </tr>\n",
              "\n",
              "                <tr>\n",
              "                    <td>Gradient Boosting</td>\n",
              "                    <td>1.0000</td>\n",
              "                    <td>1.0000</td>\n",
              "                    <td>1.0000</td>\n",
              "                    <td>1.0000</td>\n",
              "                </tr>\n",
              "\n",
              "                <tr>\n",
              "                    <td>SVM</td>\n",
              "                    <td>0.9999</td>\n",
              "                    <td>0.9737</td>\n",
              "                    <td>0.9999</td>\n",
              "                    <td>0.9999</td>\n",
              "                </tr>\n",
              "\n",
              "                <tr>\n",
              "                    <td>Neural Network</td>\n",
              "                    <td>1.0000</td>\n",
              "                    <td>0.9937</td>\n",
              "                    <td>1.0000</td>\n",
              "                    <td>1.0000</td>\n",
              "                </tr>\n",
              "\n",
              "            </table>\n",
              "        </div>\n",
              "    </div>\n",
              "</body>\n",
              "</html>\n"
            ]
          },
          "metadata": {}
        },
        {
          "output_type": "stream",
          "name": "stdout",
          "text": [
            "Dashboard displayed in notebook\n"
          ]
        }
      ],
      "source": [
        "# Display Dashboard in Notebook\n",
        "try:\n",
        "    from IPython.display import HTML, display\n",
        "    display(HTML(dashboard_html))\n",
        "    print(\"Dashboard displayed in notebook\")\n",
        "except ImportError:\n",
        "    print(\"IPython not available. Cannot display dashboard in notebook.\")\n",
        "except Exception as e:\n",
        "    print(f\"Error displaying dashboard: {e}\")\n"
      ]
    },
    {
      "cell_type": "code",
      "execution_count": null,
      "metadata": {
        "id": "UfLUth4I-o9N",
        "colab": {
          "base_uri": "https://localhost:8080/"
        },
        "outputId": "4ddd628d-0228-490f-90dd-790e70b58aa3"
      },
      "outputs": [
        {
          "output_type": "stream",
          "name": "stdout",
          "text": [
            "\n",
            "===== PROJECT COMPLETED =====\n",
            "All models trained and evaluated\n",
            "Visualizations created and saved\n",
            "HTML Dashboard created: 'cybersecurity_dashboard.html'\n",
            "\n",
            "Summary of Best Models:\n",
            "Binary Classification: Random Forest (F1: 1.0000)\n",
            "Multi-class Classification: Random Forest (F1: 1.0000)\n",
            "Deep Learning: F1: 0.9999\n"
          ]
        }
      ],
      "source": [
        "# Final Summary\n",
        "print(\"\\n===== PROJECT COMPLETED =====\")\n",
        "print(\"All models trained and evaluated\")\n",
        "print(\"Visualizations created and saved\")\n",
        "print(\"HTML Dashboard created: 'cybersecurity_dashboard.html'\")\n",
        "print(\"\\nSummary of Best Models:\")\n",
        "print(f\"Binary Classification: {best_binary_model_name} (F1: {binary_results[best_binary_model_name]['f1_weighted']:.4f})\")\n",
        "print(f\"Multi-class Classification: {best_multiclass_model_name} (F1: {multiclass_results[best_multiclass_model_name]['f1_weighted']:.4f})\")\n",
        "try:\n",
        "    print(f\"Deep Learning: F1: {f1:.4f}\")\n",
        "except NameError:\n",
        "    print(\"Deep Learning: Not available\")"
      ]
    }
  ],
  "metadata": {
    "colab": {
      "provenance": []
    },
    "kernelspec": {
      "display_name": "Python 3",
      "name": "python3"
    },
    "language_info": {
      "name": "python"
    }
  },
  "nbformat": 4,
  "nbformat_minor": 0
}